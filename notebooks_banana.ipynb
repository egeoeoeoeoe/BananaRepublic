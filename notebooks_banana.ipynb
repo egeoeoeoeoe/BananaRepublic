{
  "metadata": {
    "language_info": {
      "codemirror_mode": {
        "name": "python",
        "version": 3
      },
      "file_extension": ".py",
      "mimetype": "text/x-python",
      "name": "python",
      "nbconvert_exporter": "python",
      "pygments_lexer": "ipython3",
      "version": "3.8"
    },
    "kernelspec": {
      "name": "python",
      "display_name": "Python (Pyodide)",
      "language": "python"
    }
  },
  "nbformat_minor": 4,
  "nbformat": 4,
  "cells": [
    {
      "cell_type": "markdown",
      "source": "Question #17 by Ege Özteke",
      "metadata": {}
    },
    {
      "cell_type": "code",
      "source": "import numpy as np\nimport pandas as pd\nfrom datetime import datetime\nimport matplotlib.pyplot as plt",
      "metadata": {
        "trusted": true
      },
      "execution_count": 15,
      "outputs": []
    },
    {
      "cell_type": "code",
      "source": "df = pd.read_csv('data/municipality_bus_utilization.csv')\ndf.head()\ndf['timestamp'] = pd.to_datetime(df['timestamp'])",
      "metadata": {
        "trusted": true
      },
      "execution_count": 16,
      "outputs": []
    },
    {
      "cell_type": "markdown",
      "source": "I first want to try working only with one municipality, say Municipality 3.",
      "metadata": {
        "tags": []
      }
    },
    {
      "cell_type": "code",
      "source": "df3 = df.loc[df['municipality_id'] == 3]\ndf3.head()",
      "metadata": {
        "trusted": true
      },
      "execution_count": 43,
      "outputs": [
        {
          "execution_count": 43,
          "output_type": "execute_result",
          "data": {
            "text/plain": "             timestamp  municipality_id  usage  total_capacity\n9  2017-06-04 07:59:42                3    623            1930\n17 2017-06-04 08:25:42                3    770            1930\n22 2017-06-04 08:59:42                3    967            1930\n39 2017-06-04 09:32:46                3   1130            1930\n45 2017-06-04 09:59:48                3   1263            1930",
            "text/html": "<div>\n<style scoped>\n    .dataframe tbody tr th:only-of-type {\n        vertical-align: middle;\n    }\n\n    .dataframe tbody tr th {\n        vertical-align: top;\n    }\n\n    .dataframe thead th {\n        text-align: right;\n    }\n</style>\n<table border=\"1\" class=\"dataframe\">\n  <thead>\n    <tr style=\"text-align: right;\">\n      <th></th>\n      <th>timestamp</th>\n      <th>municipality_id</th>\n      <th>usage</th>\n      <th>total_capacity</th>\n    </tr>\n  </thead>\n  <tbody>\n    <tr>\n      <th>9</th>\n      <td>2017-06-04 07:59:42</td>\n      <td>3</td>\n      <td>623</td>\n      <td>1930</td>\n    </tr>\n    <tr>\n      <th>17</th>\n      <td>2017-06-04 08:25:42</td>\n      <td>3</td>\n      <td>770</td>\n      <td>1930</td>\n    </tr>\n    <tr>\n      <th>22</th>\n      <td>2017-06-04 08:59:42</td>\n      <td>3</td>\n      <td>967</td>\n      <td>1930</td>\n    </tr>\n    <tr>\n      <th>39</th>\n      <td>2017-06-04 09:32:46</td>\n      <td>3</td>\n      <td>1130</td>\n      <td>1930</td>\n    </tr>\n    <tr>\n      <th>45</th>\n      <td>2017-06-04 09:59:48</td>\n      <td>3</td>\n      <td>1263</td>\n      <td>1930</td>\n    </tr>\n  </tbody>\n</table>\n</div>"
          },
          "metadata": {}
        }
      ]
    },
    {
      "cell_type": "code",
      "source": "#I wasn't able to work with timestamp as it required the df.index to be in timestamp format, so i changed the index\ndf3.index = df3.timestamp\n\nprint (df3.groupby(pd.Grouper(freq='H')).max())",
      "metadata": {
        "trusted": true
      },
      "execution_count": 44,
      "outputs": [
        {
          "name": "stdout",
          "text": "                              timestamp  municipality_id   usage  \\\ntimestamp                                                          \n2017-06-04 07:00:00 2017-06-04 07:59:42              3.0   623.0   \n2017-06-04 08:00:00 2017-06-04 08:59:42              3.0   967.0   \n2017-06-04 09:00:00 2017-06-04 09:59:48              3.0  1263.0   \n2017-06-04 10:00:00 2017-06-04 10:59:48              3.0  1396.0   \n2017-06-04 11:00:00 2017-06-04 11:59:44              3.0  1456.0   \n...                                 ...              ...     ...   \n2017-08-19 12:00:00 2017-08-19 12:30:32              3.0  1484.0   \n2017-08-19 13:00:00 2017-08-19 13:30:35              3.0  1519.0   \n2017-08-19 14:00:00 2017-08-19 14:30:33              3.0  1530.0   \n2017-08-19 15:00:00 2017-08-19 15:29:33              3.0  1496.0   \n2017-08-19 16:00:00 2017-08-19 16:30:35              3.0  1330.0   \n\n                     total_capacity  \ntimestamp                            \n2017-06-04 07:00:00          1930.0  \n2017-06-04 08:00:00          1930.0  \n2017-06-04 09:00:00          1930.0  \n2017-06-04 10:00:00          1930.0  \n2017-06-04 11:00:00          1930.0  \n...                             ...  \n2017-08-19 12:00:00          1930.0  \n2017-08-19 13:00:00          1930.0  \n2017-08-19 14:00:00          1930.0  \n2017-08-19 15:00:00          1930.0  \n2017-08-19 16:00:00          1930.0  \n\n[1834 rows x 4 columns]\n",
          "output_type": "stream"
        }
      ]
    },
    {
      "cell_type": "code",
      "source": "print(df3.timestamp)",
      "metadata": {
        "trusted": true
      },
      "execution_count": 25,
      "outputs": [
        {
          "name": "stdout",
          "text": "9       2017-06-04 07:59:42\n17      2017-06-04 08:25:42\n22      2017-06-04 08:59:42\n39      2017-06-04 09:32:46\n45      2017-06-04 09:59:48\n                ...        \n13020   2017-08-19 14:30:33\n13038   2017-08-19 15:03:34\n13043   2017-08-19 15:29:33\n13057   2017-08-19 16:03:35\n13069   2017-08-19 16:30:35\nName: timestamp, Length: 1307, dtype: datetime64[ns]\n",
          "output_type": "stream"
        }
      ]
    },
    {
      "cell_type": "code",
      "source": "",
      "metadata": {},
      "execution_count": null,
      "outputs": []
    }
  ]
}